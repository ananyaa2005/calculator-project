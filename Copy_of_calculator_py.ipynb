{
  "nbformat": 4,
  "nbformat_minor": 0,
  "metadata": {
    "colab": {
      "provenance": []
    },
    "kernelspec": {
      "name": "python3",
      "display_name": "Python 3"
    },
    "language_info": {
      "name": "python"
    }
  },
  "cells": [
    {
      "cell_type": "code",
      "execution_count": null,
      "metadata": {
        "colab": {
          "base_uri": "https://localhost:8080/"
        },
        "id": "rwQHXm7h3AbY",
        "outputId": "9ba339eb-b701-4887-b079-2f758b9da63e"
      },
      "outputs": [
        {
          "output_type": "stream",
          "name": "stdout",
          "text": [
            "Simple Calculator\n",
            "Operations: +, -, *, /\n",
            "Enter operation (+, -, *, /) or 'q' to quit: q\n",
            "Exiting calculator. Goodbye!\n"
          ]
        }
      ],
      "source": [
        "# calculator.py\n",
        "\n",
        "def add(x, y):\n",
        "    return x + y\n",
        "\n",
        "def subtract(x, y):\n",
        "    return x - y\n",
        "\n",
        "def multiply(x, y):\n",
        "    return x * y\n",
        "\n",
        "def divide(x, y):\n",
        "    if y == 0:\n",
        "        return \"Error! Division by zero.\"\n",
        "    return x / y\n",
        "\n",
        "def calculator():\n",
        "    print(\"Simple Calculator\")\n",
        "    print(\"Operations: +, -, *, /\")\n",
        "\n",
        "    while True:\n",
        "        choice = input(\"Enter operation (+, -, *, /) or 'q' to quit: \")\n",
        "\n",
        "        if choice == 'q':\n",
        "            print(\"Exiting calculator. Goodbye!\")\n",
        "            break\n",
        "\n",
        "        if choice in ['+', '-', '*', '/']:\n",
        "            try:\n",
        "                num1 = float(input(\"Enter first number: \"))\n",
        "                num2 = float(input(\"Enter second number: \"))\n",
        "            except ValueError:\n",
        "                print(\"Invalid input! Please enter numbers.\")\n",
        "                continue\n",
        "\n",
        "            if choice == '+':\n",
        "                print(\"Result:\", add(num1, num2))\n",
        "            elif choice == '-':\n",
        "                print(\"Result:\", subtract(num1, num2))\n",
        "            elif choice == '*':\n",
        "                print(\"Result:\", multiply(num1, num2))\n",
        "            elif choice == '/':\n",
        "                print(\"Result:\", divide(num1, num2))\n",
        "        else:\n",
        "            print(\"Invalid operation! Please try again.\")\n",
        "\n",
        "if __name__ == \"__main__\":\n",
        "    calculator()\n"
      ]
    },
    {
      "cell_type": "code",
      "source": [
        "# First, install Git in Colab\n",
        "!apt-get install git -y\n",
        "\n",
        "# Set up Git (use your GitHub username & email)\n",
        "!git config --global user.name \"your-username\"\n",
        "!git config --global user.email \"your-email@example.com\"\n",
        "\n",
        "# Clone your GitHub repo (replace with your repo link)\n",
        "!git clone https://github.com/your-username/Calculator-Project.git\n",
        "\n",
        "# Copy your project folder into repo\n",
        "!cp -r calculator Calculator-Project/\n",
        "\n",
        "# Go inside repo folder\n",
        "%cd Calculator-Project\n",
        "\n",
        "# Add and commit\n",
        "!git add .\n",
        "!git commit -m \"Added calculator project\"\n",
        "\n",
        "# Push to GitHub (will ask for access)\n",
        "!git push\n"
      ],
      "metadata": {
        "colab": {
          "base_uri": "https://localhost:8080/"
        },
        "id": "7Ey3cYkL6j1W",
        "outputId": "0318abda-b1f8-4878-f1c3-20cb5b941498"
      },
      "execution_count": null,
      "outputs": [
        {
          "output_type": "stream",
          "name": "stdout",
          "text": [
            "Reading package lists... Done\n",
            "Building dependency tree... Done\n",
            "Reading state information... Done\n",
            "git is already the newest version (1:2.34.1-1ubuntu1.15).\n",
            "0 upgraded, 0 newly installed, 0 to remove and 35 not upgraded.\n",
            "Cloning into 'Calculator-Project'...\n",
            "fatal: could not read Username for 'https://github.com': No such device or address\n",
            "cp: cannot stat 'calculator': No such file or directory\n",
            "[Errno 2] No such file or directory: 'Calculator-Project'\n",
            "/content\n",
            "fatal: not a git repository (or any of the parent directories): .git\n",
            "fatal: not a git repository (or any of the parent directories): .git\n",
            "fatal: not a git repository (or any of the parent directories): .git\n"
          ]
        }
      ]
    }
  ]
}